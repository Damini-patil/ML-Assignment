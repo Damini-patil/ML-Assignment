{
  "nbformat": 4,
  "nbformat_minor": 0,
  "metadata": {
    "colab": {
      "provenance": []
    },
    "kernelspec": {
      "name": "python3",
      "display_name": "Python 3"
    },
    "language_info": {
      "name": "python"
    }
  },
  "cells": [
    {
      "cell_type": "code",
      "execution_count": 1,
      "metadata": {
        "id": "BeTns3qGJZvl"
      },
      "outputs": [],
      "source": [
        "import pandas as pd\n",
        "import numpy as np\n",
        "import matplotlib.pyplot as plt\n",
        "import scipy.stats as stats\n",
        "import seaborn as sns\n",
        "import statsmodels.api as smf\n",
        "import warnings\n",
        "warnings.filterwarnings('ignore')"
      ]
    },
    {
      "cell_type": "markdown",
      "source": [
        "# **Set 4**"
      ],
      "metadata": {
        "id": "6ErCVnddJqHy"
      }
    },
    {
      "cell_type": "markdown",
      "source": [
        "**Question 3**"
      ],
      "metadata": {
        "id": "SidIegfrJwIX"
      }
    },
    {
      "cell_type": "markdown",
      "source": [
        " ** 3 Auditors at a small community bank randomly sample 100 withdrawal transactions made during the week at an ATM machine located near the bank’s main branch. Over the past 2 years, the average withdrawal amount has been 50 USD with a standard deviation of 40 USD. Since audit investigations are typically expensive, the auditors decide to not initiate further investigations if the mean transaction amount of the sample is between 45 USD and 55 USD. What is the probability that in any given week, there will be an investigation?**"
      ],
      "metadata": {
        "id": "b2iZUxg5J5G7"
      }
    },
    {
      "cell_type": "code",
      "source": [
        "mean = 50\n",
        "std = 40\n",
        "n = 100\n",
        "d_f = 100 - 1 #degree of freedom\n",
        "#the probability that there will be an investigation,\n",
        "#if the mean transactions amount increases more than 55 USD or less than 45 USD\n",
        "# no investigation if the mean transactions amount remains between 45 to 55 USD\n",
        "\n",
        "# we will go for t-distribution as population standard deviation is unknown\n",
        "t_forty_five = (45-50)/(40/np.sqrt(100))\n",
        "\n",
        "t_fifty_five = (55-50)/(40/np.sqrt(100))\n",
        "\n",
        "forty_five = stats.t.cdf(t_forty_five, df = d_f)\n",
        "\n",
        "fifty_five = stats.t.cdf(t_fifty_five, d_f)\n",
        "\n",
        "prob = fifty_five - forty_five\n",
        "\n",
        "np.round(stats.t.interval(alpha = prob, df = d_f, loc = mean, scale = std/np.sqrt(n)),)\n",
        "\n",
        "print('The probability that in any given week, there will be an investigation is',np.round((1-prob)*100,1),'%')"
      ],
      "metadata": {
        "colab": {
          "base_uri": "https://localhost:8080/"
        },
        "id": "ZBqQ2PXXJaVo",
        "outputId": "c2d0e32d-663a-4c29-af6a-c1dbb9672afb"
      },
      "execution_count": 2,
      "outputs": [
        {
          "output_type": "stream",
          "name": "stdout",
          "text": [
            "The probability that in any given week, there will be an investigation is 21.4 %\n"
          ]
        }
      ]
    },
    {
      "cell_type": "markdown",
      "source": [
        "**Question 4**"
      ],
      "metadata": {
        "id": "51xBWIlhKUnK"
      }
    },
    {
      "cell_type": "markdown",
      "source": [
        "### ** 4 The auditors from the above example would like to maintain the probability of investigation to 5%. Which of the following represents the minimum number transactions that they should sample if they do not want to change the thresholds of 45 and 55? Assume that the sample statistics remain unchanged.**"
      ],
      "metadata": {
        "id": "5PB9z0OZKaih"
      }
    },
    {
      "cell_type": "code",
      "source": [
        "x_bar = 45\n",
        "s_std = 40\n",
        "mew = 50\n",
        "\n",
        "t = np.round(stats.t.ppf(0.025, df = 249),2)\n",
        "t\n",
        "\n",
        "# t_value = (x_bar - mew)/(sample_std/n**0.5)\n",
        "# t = 45-50 or z = 55-50 z = +/- 5\n",
        "\n",
        "# t = 5/(40/n**0.5)\n",
        "# n = (sample_standard_deviation*tscore)/(sample_mean=population_mean)\n",
        "n = ((s_std*abs(t)) / (5))**2\n",
        "\n",
        "print('The Auditors would like to maintain the probability of investigation to 5%, they should sample',np.round(n,),'transactions if they do not want to change the thresholds of 45 to 55')\n",
        "\n",
        "df= n-1\n",
        "print(n, df)\n",
        "\n",
        "np.round(stats.t.interval(alpha = 0.95, df = df, loc = mew, scale = s_std/np.sqrt(n)),)"
      ],
      "metadata": {
        "colab": {
          "base_uri": "https://localhost:8080/"
        },
        "id": "09M91UJrJaXI",
        "outputId": "f6d79c07-9046-4168-9cef-e01ecc03b607"
      },
      "execution_count": 3,
      "outputs": [
        {
          "output_type": "stream",
          "name": "stdout",
          "text": [
            "The Auditors would like to maintain the probability of investigation to 5%, they should sample 248.0 transactions if they do not want to change the thresholds of 45 to 55\n",
            "248.3776 247.3776\n"
          ]
        },
        {
          "output_type": "execute_result",
          "data": {
            "text/plain": [
              "array([45., 55.])"
            ]
          },
          "metadata": {},
          "execution_count": 3
        }
      ]
    }
  ]
}